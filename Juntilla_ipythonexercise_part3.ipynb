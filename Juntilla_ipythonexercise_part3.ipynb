{
 "metadata": {
  "name": "",
  "signature": "sha256:8b7cd2cb8260ce695177971d4dc3f182b535a19422e2c6702e56b8ab65bc869e"
 },
 "nbformat": 3,
 "nbformat_minor": 0,
 "worksheets": [
  {
   "cells": [
    {
     "cell_type": "markdown",
     "metadata": {},
     "source": [
      "Gelsy A. Juntilla - IPython 3"
     ]
    },
    {
     "cell_type": "markdown",
     "metadata": {},
     "source": [
      "\n",
      "Instructions\n",
      "\n",
      "1.  When creating a new IPython notebook, you need to rename your notebook, which has an .ipynb name extension.  The naming convention: familyname\\_ipython\\_exercise\\_part3\\_(notebook).\n",
      "\n",
      "2.  To be able to answer the exercises adequately, you need to go through the basic tutorial (http://nbviewer.ipython.org/github/adrn/ipython/blob/2.x/examples/Notebook/Index.ipynb)\n",
      "\n",
      "3.  When you are ready to answer the questions, please make sure to follow the outline organization by using the Markdown and Heading options in the menu bar.\n",
      "\n",
      "4.  Once you finish answering the exercise, convert your notebook to PDF file (make sure you are using the correct naming convention stipulated in number 1).  Push to your ipython github repository (see exercise_part1 for naming convention and creation of github repository specific for IPython and IPython notebook exercises)."
     ]
    },
    {
     "cell_type": "markdown",
     "metadata": {},
     "source": [
      "Embed the ipython notebook logo here.  Download from http://ipython.org/_static/IPy_header.png. Save the image accordingly.\n",
      "If you did the tutorial, this should be simple.\n",
      "(Hint:  from IPython.display import Image)"
     ]
    },
    {
     "cell_type": "code",
     "collapsed": false,
     "input": [
      "from IPython.display import Image\n",
      "Image(url='http://ipython.org/_static/IPy_header.png')"
     ],
     "language": "python",
     "metadata": {},
     "outputs": [
      {
       "html": [
        "<img src=\"http://ipython.org/_static/IPy_header.png\"/>"
       ],
       "metadata": {},
       "output_type": "pyout",
       "prompt_number": 1,
       "text": [
        "<IPython.core.display.Image at 0x7fd1886443d0>"
       ]
      }
     ],
     "prompt_number": 1
    },
    {
     "cell_type": "heading",
     "level": 1,
     "metadata": {},
     "source": [
      "The IPython Notebook"
     ]
    },
    {
     "cell_type": "markdown",
     "metadata": {},
     "source": [
      "   The IPython Notebook is a web-based interactive computational environment where you can combine code execution, text, mathematics, plots and rich media into a single document.\n",
      "\n",
      "   These notebooks are regular files that can be shared with colleagues and converted to other formats such as HTML and PDF.  You can also publicly share available notebooks using the IPython Notebook Viewer service which will render these files as static web pages."
     ]
    },
    {
     "cell_type": "heading",
     "level": 1,
     "metadata": {},
     "source": [
      "Introduction"
     ]
    },
    {
     "cell_type": "markdown",
     "metadata": {},
     "source": [
      "The notebook extends the console-based approach to interactive computing in a qualitatively new direction, providing a web-based application suitable for capturing the whole computation process: developing, documenting, and executing code, as well as communicating the results. "
     ]
    },
    {
     "cell_type": "markdown",
     "metadata": {},
     "source": [
      "1.The IPython notebook combines two components.  What are these?  Briefly explain each.\n",
      "\n",
      "* Web Application - browser-based tool for interactive authoring of documents which combine explenatory text, mathematics, computations and their rich media output.\n",
      "\n",
      "* Notebook Documents - representation of all content visible in the web application."
     ]
    },
    {
     "cell_type": "heading",
     "level": 2,
     "metadata": {},
     "source": [
      "Main Features of the Web Application"
     ]
    },
    {
     "cell_type": "markdown",
     "metadata": {},
     "source": [
      "2.  Briefly summarize some of the main features of the web application.\n",
      "\n",
      "3.  Embed/Display a YouTube Video delivered by Brian Granger and Jonathan Fredric on the IPython Notebook Tutorial (https://www.youtube.com/watch?v=VaV10VNZCLA) (Hint:  from IPython.display import YouTubeVideo)\n"
     ]
    },
    {
     "cell_type": "markdown",
     "metadata": {},
     "source": [
      "\n",
      "* In-browser editing for code, with automatic syntax highlighting, indentation, and tab completion/introspection.\n",
      "* The ability to execute code from the browser, with the results of computations attached to the code which generated them.\n",
      "* Displaying the result of computation using rich media representations, such as HTML, LaTeX, PNG, SVG, etc. For example, publication-quality figures rendered by the matplotlib library, can be included inline.\n",
      "* In-browser editing for rich text using the Markdown markup language, which can provide commentary for the code, is not limited to plain text.\n",
      "* The ability to easily include mathematical notation within markdown cells using LaTeX, and rendered natively by MathJax.\n"
     ]
    },
    {
     "cell_type": "code",
     "collapsed": false,
     "input": [
      "from IPython.display import YouTubeVideo\n",
      "YouTubeVideo('VaV10VNZCLA')"
     ],
     "language": "python",
     "metadata": {},
     "outputs": [
      {
       "html": [
        "\n",
        "        <iframe\n",
        "            width=\"400\"\n",
        "            height=300\"\n",
        "            src=\"https://www.youtube.com/embed/VaV10VNZCLA\"\n",
        "            frameborder=\"0\"\n",
        "            allowfullscreen\n",
        "        ></iframe>\n",
        "        "
       ],
       "metadata": {},
       "output_type": "pyout",
       "prompt_number": 2,
       "text": [
        "<IPython.lib.display.YouTubeVideo at 0x7fd18866a7d0>"
       ]
      }
     ],
     "prompt_number": 2
    },
    {
     "cell_type": "heading",
     "level": 2,
     "metadata": {},
     "source": [
      "Notebook Documents"
     ]
    },
    {
     "cell_type": "markdown",
     "metadata": {},
     "source": [
      "Notebook documents contains the inputs and outputs of an interactive session as well as additional text that accompanies the code but is not meant for execution.  In this way, notebook files can serve as a complete computational record of a session, interleaving executable code with explanatory text, mathematics, and rich representation of resulting objects.\n",
      "\n",
      "4.  What are JSON files?\n",
      "5.  Can JSON files be version-controlled?  Why?\n",
      "6.  What service allows you to share any .piynb notebook document via a public url?  Install this in your linux system (Hint:  sudo apt-get install: pandoc, texlive-latex-extra)"
     ]
    },
    {
     "cell_type": "markdown",
     "metadata": {},
     "source": [
      "* JSON Files or JavaScript Object Notation, is an open standard format that uses human-readable text to transmit data objects consisting of attribute\u2013value pairs.\n",
      "* JSON files can be version-controlled because it is a plain text format\n",
      "* Any .ipynb notebook document available from a public URL can be shared via the IPython Notebook Viewer (nbviewer). This service loads the notebook document from the URL and renders it as a static web page."
     ]
    },
    {
     "cell_type": "heading",
     "level": 1,
     "metadata": {},
     "source": [
      "The Notebook Server"
     ]
    },
    {
     "cell_type": "markdown",
     "metadata": {},
     "source": [
      "The IPython notebook server is a custom web server that runs the notebook web application.  Most of the time, users run the notebook server on their local computer using IPython's command line interface.  \n",
      "\n",
      "7. What is the command to start the notebook server?  What is the default URL of this web application?  What is the default port?\n",
      "8. How do specify the port manually?\n",
      "9. How do you start the notebook server without opening a web browser?"
     ]
    },
    {
     "cell_type": "markdown",
     "metadata": {},
     "source": [
      "* Command: ipython notebook  \n",
      "Default URL: http://127.0.0.1:8888/\n",
      "Default Port: 8888\n",
      "* Specify the port: --port option\n",
      "* Start the notebook server w/o opening a web browser: When starting a notebook server from the command line, you can also open a particular notebook directly, bypassing the dashboard, with ipython notebook my_notebook.ipynb. The .ipynb extension is assumed if no extension is given.\n",
      "\n"
     ]
    },
    {
     "cell_type": "heading",
     "level": 2,
     "metadata": {},
     "source": [
      "Creating A New Notebook Document"
     ]
    },
    {
     "cell_type": "markdown",
     "metadata": {},
     "source": [
      "10.  How do you create a new notebook document (from the dashboard and from within an active notebook)?"
     ]
    },
    {
     "cell_type": "markdown",
     "metadata": {},
     "source": [
      "* Use the File | New menu option from within an active notebook."
     ]
    },
    {
     "cell_type": "heading",
     "level": 2,
     "metadata": {},
     "source": [
      "Opening Notebooks"
     ]
    },
    {
     "cell_type": "markdown",
     "metadata": {},
     "source": [
      "An open notebook has exactly one interactive session connected to an IPython kernel, which will execute code sent by the user and communicate back the results.  This kernel remains active if the web browser window is closed, and reopening the same notebook from the dashboard will reconnect the web application to the same kernel.\n",
      "\n",
      "11.  What is a kernel?\n",
      "12.  The Shutdown button and the Delete button in your dashboard is usually associated with which notebooks?\n",
      "13.  What is your kernel's ID (Hint use the magic function %connect_info)\n",
      "14.  If you want to manually start a Qt console connected to the same kernel (answer to number 13), what is the command to use?  (Remember: without an ID: the default is to connect to the most recently started kernel)."
     ]
    },
    {
     "cell_type": "markdown",
     "metadata": {},
     "source": [
      "* Kernel is a program that runs and introspects the user\u2019s code.\n",
      "* Active kernel have a Shutdown button while those without an active kernel have a Delete button.  "
     ]
    },
    {
     "cell_type": "code",
     "collapsed": false,
     "input": [
      "%connect_info"
     ],
     "language": "python",
     "metadata": {},
     "outputs": [
      {
       "output_type": "stream",
       "stream": "stdout",
       "text": [
        "{\n",
        "  \"stdin_port\": 49039, \n",
        "  \"ip\": \"127.0.0.1\", \n",
        "  \"control_port\": 49080, \n",
        "  \"hb_port\": 45569, \n",
        "  \"signature_scheme\": \"hmac-sha256\", \n",
        "  \"key\": \"7d6e7f7d-ac66-4523-8cf9-a07345df0c58\", \n",
        "  \"shell_port\": 45503, \n",
        "  \"transport\": \"tcp\", \n",
        "  \"iopub_port\": 60164\n",
        "}\n",
        "\n",
        "Paste the above JSON into a file, and connect with:\n",
        "    $> ipython <app> --existing <file>\n",
        "or, if you are local, you can connect with just:\n",
        "    $> ipython <app> --existing kernel-0134473f-b704-43a0-bbe7-2305ee1338a2.json \n",
        "or even just:\n",
        "    $> ipython <app> --existing \n",
        "if this is the most recent IPython session you have started.\n"
       ]
      }
     ],
     "prompt_number": 3
    },
    {
     "cell_type": "markdown",
     "metadata": {},
     "source": [
      "* ipython qtconsole --existing 7d6e7f7d"
     ]
    },
    {
     "cell_type": "heading",
     "level": 1,
     "metadata": {},
     "source": [
      "Notebook User Interface"
     ]
    },
    {
     "cell_type": "markdown",
     "metadata": {},
     "source": [
      "When you create a new notebook document, you will be present with the notebook name, a menu bar, a toolbar, and an empty code cell.\n",
      "\n",
      "15.  Briefly explain each."
     ]
    },
    {
     "cell_type": "markdown",
     "metadata": {},
     "source": [
      "* notebook name: The name of the notebook document is displayed at the top of the page, next to the IP[y]: Notebook logo. \n",
      "* menu bar: The menu bar presents different options that may be used to manipulate the way the notebook functions.\n",
      "* toolbar: The tool bar gives a quick way of performing the most-used operations within the notebook, by clicking on an icon.\n",
      "* code cell: the default type of cell, read on for an explanation of cells"
     ]
    },
    {
     "cell_type": "heading",
     "level": 1,
     "metadata": {},
     "source": [
      "Structure of A Notebook Document "
     ]
    },
    {
     "cell_type": "markdown",
     "metadata": {},
     "source": [
      "The notebook consists of a sequence of cells.\n",
      "\n",
      "16.  What is a cell?\n",
      "17.  How do you run or execute a cell?\n",
      "18.  There are four types of cells.  What are these?  Briefly explain each.\n",
      "19.  Find an image of keyboard shortcuts in IPython notebook and embed the image here.\n",
      "20.  Find an image of magic functions in IPython (which is applicable in the notebook environment) and embed the image here."
     ]
    },
    {
     "cell_type": "markdown",
     "metadata": {},
     "source": [
      "* Cell is a multi-line text input field\n",
      "* This can be executed by using Shift-Enter, or by clicking either the \u201cPlay\u201d button the toolbar, or Cell | Run in the menu bar\n",
      "* 4 Types of Cell:\n",
      "    code cells, markdown cells, raw cells and heading cells"
     ]
    },
    {
     "cell_type": "code",
     "collapsed": false,
     "input": [
      "from IPython.display import Image\n",
      "i = Image(filename='final.png')\n",
      "i"
     ],
     "language": "python",
     "metadata": {},
     "outputs": [
      {
       "metadata": {},
       "output_type": "pyout",
       "png": "[encoded data removed]",
       "prompt_number": 2,
       "text": [
        "<IPython.core.display.Image at 0x7ff850475650>"
       ]
      }
     ],
     "prompt_number": 2
    },
    {
     "cell_type": "heading",
     "level": 1,
     "metadata": {},
     "source": [
      "Basic Workflow"
     ]
    },
    {
     "cell_type": "markdown",
     "metadata": {},
     "source": [
      "The normal workflow in a notebooks is quite similar to a standard IPython session, with the difference that you can edit cells in-place multiple times until you obtain the desired results, rather than having to rerun separate scripts with the %run magic command.\n",
      "\n",
      "Typically you will work on a computational problem in pieces, organizing related ideas into cells and moving forward once previous parts work correctly.  This is much more convenient for interactive exploration than breaking up a computation into scripts that must be executed together, as was previously necessary, especially if parts of them take a long time to run.\n",
      "\n",
      "21.  At certain moments, it may be necessary to interrupt a calculation which is taking too long to complete.  How do you do that from the menu option and from the keyboard shortcut?\n",
      "\n",
      "22.  It may be necessary or desirable to start the whole computational process.  How do you do that from the menu option and from the keyboard shortcut?"
     ]
    },
    {
     "cell_type": "markdown",
     "metadata": {},
     "source": [
      "* Kernel-> Interrupt Ctrl-M I\n",
      "* Kernel-> Restart"
     ]
    },
    {
     "cell_type": "heading",
     "level": 2,
     "metadata": {},
     "source": [
      "Keyboard Shortcuts"
     ]
    },
    {
     "cell_type": "markdown",
     "metadata": {},
     "source": [
      "All actions in the notebook can be performed with the mouse, but keyboard shortcuts are also available for the most common ones.  The essential shortcuts to remember are the following: Shift-Enter, Ctrl-Enter, Alt-Enter, Esc and Enter.\n",
      "\n",
      "23.  Briefly explain what each does.\n",
      "\n",
      "For a full list of available shortcuts, click Help, Keyboard Shortcuts in the notebook menu."
     ]
    },
    {
     "cell_type": "markdown",
     "metadata": {},
     "source": [
      "* Shift-enter(Run cell) -executes the code inside the cell the automatically jumps to the next cell\n",
      "* Ctrl-Enter(Run cell in-place) - runs the cell like in the terminal mode\n",
      "* Alt-Enter(Run cell, insert below) - Runs the cells and inserts a new cell below the cell being run.\n",
      "* Esc - goes to command mode\n",
      "* Enter - inserts a new line."
     ]
    },
    {
     "cell_type": "heading",
     "level": 1,
     "metadata": {},
     "source": [
      "Plotting"
     ]
    },
    {
     "cell_type": "markdown",
     "metadata": {},
     "source": [
      "One of the major feature of the notebook is the ability to display plots that are the output of running code cells.  IPython is designed to work seamlessly with the matplotlib plotting library to provide this functionality.\n",
      "\n",
      "24.  What magic command should you invoke to set up the matplotlib integration? (This performs the necessary behind-the-scenes setup for IPython to work correctly hand in hand with matplotlib: it does not, however, execute any Python import commands.  That is, no names are added to the namespace.)\n",
      "\n",
      "25.  What is the default backend if the magic function invoked in number 24 is called without an argument.\n",
      "\n",
      "26.  What is the gtk backend option?\n",
      "\n",
      "27.  Which backend option should you invoke to ensure that the output of the plotting commands is displayed within the notebook, directly below the code cell that produced it? (The resulting plots will then be stored in the notebook document.)"
     ]
    },
    {
     "cell_type": "markdown",
     "metadata": {},
     "source": [
      "* %matplotlib\n",
      "* matplotlib backend\n",
      "* user-interface of matplotlib\n",
      "* inline backend"
     ]
    },
    {
     "cell_type": "heading",
     "level": 1,
     "metadata": {},
     "source": [
      "Configuring the IPython Notebook"
     ]
    },
    {
     "cell_type": "markdown",
     "metadata": {},
     "source": [
      "The notebook server can be run with a variety of command line arguments.  To see a list of available option use the --help option.  \n",
      "\n",
      "Defaults for these options can also be set by creating a file named ipython_notebook_config.py in your IPython profile folder.  The profile folder is a subfolder of your IPYthon directory.\n",
      "\n",
      "28. To find out where the IPython profile folder is located, what command do you run?\n",
      "29.  To create a new set of default configuration files, what command do you run?"
     ]
    },
    {
     "cell_type": "markdown",
     "metadata": {},
     "source": [
      "* ipython locate\n",
      "* ipython profile create"
     ]
    },
    {
     "cell_type": "heading",
     "level": 1,
     "metadata": {},
     "source": [
      "Converting Notebooks To Other Formats"
     ]
    },
    {
     "cell_type": "markdown",
     "metadata": {},
     "source": [
      "Currently, nbconvert is provided as a command line tooll, run as a script using IPython.\n",
      "\n",
      "30.  What is the command-line syntax to run the nbconvert script?\n",
      "31.  What is the default output format?\n",
      "32.  Give 5 other export formats that can be specified using the --to argument?"
     ]
    },
    {
     "cell_type": "markdown",
     "metadata": {},
     "source": [
      "* ipython nbconvert \u2013to FORMAT [filename.ipynb]\n",
      "* HTML\n",
      "* Latex, slideshow, markdown, RestructuredText(rsT), Python script(py)"
     ]
    },
    {
     "cell_type": "heading",
     "level": 1,
     "metadata": {},
     "source": [
      "Running A Notebook Server"
     ]
    },
    {
     "cell_type": "markdown",
     "metadata": {},
     "source": [
      "The IPython notebook web-application is based on a server-client structure.  This server uses a two-process kernel architecture based on ZeroMQ and Tornado for serving HTTP requests.  By default, a notebook server runs on http://127.0.0.1:8888/ and is accessible only from local host.\n",
      "\n",
      "33.  You can protect your notebook server with a simple single password.  How do you do that?\n",
      "34.  What function do you import/use to prepare a hased password?\n",
      "35.  How do you add your configured password to your ipython_notebook_config.py?\n",
      "36.  Why is it a good idea to use SSL when using a password?\n",
      "37.  How do you create a self-signed certificate?  How is it generated?  (Hint:  openssl)\n",
      "\n",
      "You can access your notebook server remotely via a web browser.\n",
      "\n",
      "38.  How do you create a custom profile for your notebook in order to make it accessible via the web browser?"
     ]
    },
    {
     "cell_type": "markdown",
     "metadata": {},
     "source": [
      "* Set the NotebookApp.password configurable\n",
      "* Ipython.lib.security.passwd():\n",
      "* Set NotebookApp.password\n",
      "* So that the password is not sent unencrypted by the user\u2019s browser\n",
      "* openssl req -x509 -nodes -days 365 -newkey rsa:1024 -keyout mycert.pem -out mycert.pem \n",
      "This command writes the certificate to the same file in which it is run.\n",
      "\n",
      "\n",
      "\n",
      "* By using the following commands: ipython profile create nbserver"
     ]
    },
    {
     "cell_type": "heading",
     "level": 1,
     "metadata": {},
     "source": [
      "Security in IPython Notebooks"
     ]
    },
    {
     "cell_type": "markdown",
     "metadata": {},
     "source": [
      "39.  What are the security issues in using IPython Notebooks?\n",
      "40.  What are some of the security tools used in IPython Notebook?  Briefly summarize."
     ]
    },
    {
     "cell_type": "markdown",
     "metadata": {},
     "source": [
      "* Unauthorized clients Unauthorized engines Unauthorized controllers\n",
      "* The notebook server can be protected by using a simple single password. It can be set as mentioned in the above items. The only source for its security is via ssh-tunnel. IPython supports both shell for connections. There is a key necessary to submit a request but due to lack of encryption, it does not provide a good security if loopback traffic is compromised."
     ]
    },
    {
     "cell_type": "markdown",
     "metadata": {},
     "source": [
      "Final note:  how do you convert this .ipynb file to a PDF file?  If you do not want to run it separately from the linux command line, how do you introduce a bash shell within your notebook cell?\n"
     ]
    },
    {
     "cell_type": "code",
     "collapsed": false,
     "input": [
      "%%bash\n",
      "ipython nbconvert ipython_exercise_part3_\\(notebook\\).ipynb --to latex --post PDF"
     ],
     "language": "python",
     "metadata": {},
     "outputs": [
      {
       "output_type": "stream",
       "stream": "stderr",
       "text": [
        "[NbConvertApp] Using existing profile dir: u'/home/frances/.ipython/profile_default'\n",
        "[NbConvertApp] Converting notebook ipython_exercise_part3_(notebook).ipynb to latex\n",
        "[NbConvertApp] Support files will be in ipython_exercise_part3_(notebook)_files/\n",
        "[NbConvertApp] Loaded template article.tplx\n",
        "[NbConvertApp] Writing 24753 bytes to ipython_exercise_part3_(notebook).tex\n",
        "[NbConvertApp] Building PDF\n",
        "[NbConvertApp] Running pdflatex 3 times: [u'pdflatex', u'ipython_exercise_part3_(notebook).tex']\n",
        "[NbConvertApp] Running bibtex 1 time: [u'bibtex', u'ipython_exercise_part3_(notebook)']\n",
        "[NbConvertApp] WARNING | bibtex had problems, most likely because there were no citations\n",
        "[NbConvertApp] Removing temporary LaTeX files\n",
        "[NbConvertApp] PDF successfully created\n"
       ]
      }
     ],
     "prompt_number": 33
    },
    {
     "cell_type": "code",
     "collapsed": false,
     "input": [],
     "language": "python",
     "metadata": {},
     "outputs": []
    }
   ],
   "metadata": {}
  }
 ]
}